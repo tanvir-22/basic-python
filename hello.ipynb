{
 "cells": [
  {
   "cell_type": "code",
   "execution_count": null,
   "metadata": {},
   "outputs": [],
   "source": []
  },
  {
   "cell_type": "code",
   "execution_count": null,
   "metadata": {},
   "outputs": [],
   "source": [
    "print(\"hello world\")"
   ]
  },
  {
   "cell_type": "code",
   "execution_count": null,
   "metadata": {},
   "outputs": [],
   "source": [
    "a=5\n",
    "type(a)\n"
   ]
  },
  {
   "cell_type": "code",
   "execution_count": null,
   "metadata": {},
   "outputs": [],
   "source": [
    "_name = 'hasan'\n",
    "type(_name)"
   ]
  },
  {
   "cell_type": "code",
   "execution_count": null,
   "metadata": {},
   "outputs": [],
   "source": [
    "marks = input(\"enter your marks:\") #here it is taking input as string \n",
    "marks = int(marks) #typecasting \n",
    "if marks >= 40:\n",
    "    print(\"pass\")\n",
    "else:\n",
    "    print(\"fail\")\n",
    "print(\"end\")"
   ]
  },
  {
   "cell_type": "code",
   "execution_count": null,
   "metadata": {},
   "outputs": [],
   "source": [
    "marks  = input(\"enter your marks:\")\n",
    "marks = int(marks)\n",
    "if marks >= 80:\n",
    "    print(\"Grade:A\")\n",
    "elif marks >=70:\n",
    "    print(\"Grade:B\")\n",
    "elif marks >=60:\n",
    "    print(\"Grade:C\")\n",
    "else:\n",
    "    print(\"enter valid input\")"
   ]
  },
  {
   "cell_type": "code",
   "execution_count": null,
   "metadata": {},
   "outputs": [],
   "source": [
    "a=3\n",
    "a==3\n",
    "s1=\"bangladesh\"\n",
    "s2 = \"Bangladesh\"\n",
    "s1==s2"
   ]
  },
  {
   "cell_type": "code",
   "execution_count": null,
   "metadata": {},
   "outputs": [],
   "source": [
    "n = input(\"enter a number:\")\n",
    "n = int(n)\n",
    "if n%2 == 0:\n",
    "    print(n,\"is even\")\n",
    "else:\n",
    "    print(n,\"is odd\")"
   ]
  },
  {
   "cell_type": "code",
   "execution_count": null,
   "metadata": {},
   "outputs": [],
   "source": [
    "num = input(\"enter a number\")\n",
    "n = int(num)\n",
    "if (n>=0):\n",
    "    if n%2==0:\n",
    "        print(n,\"is positive and even\")\n",
    "    else:\n",
    "        print(n,\"is positive and odd\")\n",
    "else:\n",
    "    if n%2==0:\n",
    "        print(n,\"is negative and even\")\n",
    "    else:\n",
    "        print(n,\"is negative and odd\")\n"
   ]
  },
  {
   "cell_type": "code",
   "execution_count": null,
   "metadata": {},
   "outputs": [],
   "source": [
    "num = input(\"enter a number\")\n",
    "n = int(num)\n",
    "if (n>=0) and (n%2==0): # and means &&\n",
    "    print(n,\"is positive and even\")\n",
    "elif (n>=0) and (n%2!=0):\n",
    "    print(n,\"is positive and odd\")\n",
    "elif (n<0) and (n%2==0):\n",
    "    print(n,\"is negative and even\")\n",
    "else:\n",
    "    print(n,\"is negative and odd \")   "
   ]
  },
  {
   "cell_type": "code",
   "execution_count": null,
   "metadata": {},
   "outputs": [],
   "source": []
  },
  {
   "cell_type": "code",
   "execution_count": null,
   "metadata": {},
   "outputs": [],
   "source": [
    "#leap year\n",
    "year = input(\"enter a year\")\n",
    "year = int(year)\n",
    "if(year%4==0 and year%100!=0) or(year%400==0):\n",
    "    print(year,\"is leap year\")\n",
    "else:\n",
    "    print(year,\"is not leap year\")"
   ]
  },
  {
   "cell_type": "code",
   "execution_count": null,
   "metadata": {},
   "outputs": [],
   "source": [
    "fruits = [\"apple\",\"banana\",\"mango\",\"orange\"]\n",
    "type(fruits)\n"
   ]
  },
  {
   "cell_type": "code",
   "execution_count": null,
   "metadata": {},
   "outputs": [],
   "source": [
    "fruits = [\"apple\",\"banana\",\"mango\",\"orange\"]\n",
    "print(fruits)"
   ]
  },
  {
   "cell_type": "code",
   "execution_count": null,
   "metadata": {},
   "outputs": [],
   "source": [
    "fruits = [\"apple\",\"banana\",\"mango\",\"orange\"]\n",
    "fruits[0]"
   ]
  },
  {
   "cell_type": "code",
   "execution_count": null,
   "metadata": {},
   "outputs": [],
   "source": [
    "fruits = [\"apple\",\"banana\",\"mango\",\"orange\"]\n",
    "fruits.append(\"papaya\")\n",
    "print(fruits)"
   ]
  },
  {
   "cell_type": "code",
   "execution_count": null,
   "metadata": {},
   "outputs": [],
   "source": [
    "len(fruits)#this is the length of list"
   ]
  },
  {
   "cell_type": "code",
   "execution_count": null,
   "metadata": {},
   "outputs": [],
   "source": [
    "\"mango\" in fruits #check if this element present in the list"
   ]
  },
  {
   "cell_type": "code",
   "execution_count": null,
   "metadata": {},
   "outputs": [],
   "source": [
    "fruits.pop()#removes the last item of the list"
   ]
  },
  {
   "cell_type": "code",
   "execution_count": null,
   "metadata": {},
   "outputs": [],
   "source": [
    "print(fruits) #now papaya is not in the list because of \"POP\""
   ]
  },
  {
   "cell_type": "code",
   "execution_count": null,
   "metadata": {},
   "outputs": [],
   "source": [
    "#function\n",
    "def gen_multi_table(n):\n",
    "    print(n,\"x 1=\",n *1)\n",
    "    print(n,\"x 2=\",n *2)\n",
    "    print(n,\"x 3=\",n *3)\n",
    "    print(n,\"x 4=\",n *4)\n",
    "    print(n,\"x 5=\",n *5)\n",
    "    print(n,\"x 6=\",n *6)\n",
    "    print(n,\"x 7=\",n *7)\n",
    "    print(n,\"x 8=\",n *8)\n",
    "    print(n,\"x 9=\",n *9)\n",
    "    print(n,\"x 10=\",n *10)\n",
    "n = input()\n",
    "n = int(n)\n",
    "gen_multi_table(n)\n",
    "gen_multi_table(n+1)    \n"
   ]
  },
  {
   "cell_type": "code",
   "execution_count": null,
   "metadata": {},
   "outputs": [],
   "source": [
    "import random\n",
    "\n",
    "rand_number = random.randint(1,100)\n",
    "print(rand_number)"
   ]
  },
  {
   "cell_type": "code",
   "execution_count": null,
   "metadata": {},
   "outputs": [],
   "source": [
    "import datetime\n",
    "\n",
    "today = datetime.datetime.today()\n",
    "print(today)"
   ]
  },
  {
   "cell_type": "code",
   "execution_count": null,
   "metadata": {},
   "outputs": [],
   "source": [
    "import math\n",
    "\n",
    "num = math.sqrt(36)\n",
    "print(num)\n"
   ]
  },
  {
   "cell_type": "code",
   "execution_count": null,
   "metadata": {},
   "outputs": [],
   "source": [
    "import math\n",
    "pi = math.pi\n",
    "print(pi)"
   ]
  },
  {
   "cell_type": "code",
   "execution_count": null,
   "metadata": {},
   "outputs": [],
   "source": [
    "#traverse a list\n",
    "names = [\"hasan\",\"ishan\",\"rayhan\",\"araf\"]\n",
    "for name in names:\n",
    "    print(name)"
   ]
  },
  {
   "cell_type": "code",
   "execution_count": null,
   "metadata": {},
   "outputs": [],
   "source": [
    "names = [\"hasan\",\"ishan\",\"rayhan\",\"araf\"]\n",
    "for i in range(4): #it means four value 0,1,2,3\n",
    "    print(i,names[i])"
   ]
  },
  {
   "cell_type": "code",
   "execution_count": null,
   "metadata": {},
   "outputs": [],
   "source": [
    "for i in range(3,9):\n",
    "    print(i)"
   ]
  },
  {
   "cell_type": "code",
   "execution_count": null,
   "metadata": {},
   "outputs": [],
   "source": [
    "for i in range(2,10,2): #increment 2 \n",
    "    print(i)"
   ]
  },
  {
   "cell_type": "code",
   "execution_count": null,
   "metadata": {},
   "outputs": [],
   "source": [
    "#print multiplication table of 1 to 4 using for loop\n",
    "def gen_multi_table(n):\n",
    "    print(n,\"x 1=\",n *1)\n",
    "    print(n,\"x 2=\",n *2)\n",
    "    print(n,\"x 3=\",n *3)\n",
    "    print(n,\"x 4=\",n *4)\n",
    "    print(n,\"x 5=\",n *5)\n",
    "    print(n,\"x 6=\",n *6)\n",
    "    print(n,\"x 7=\",n *7)\n",
    "    print(n,\"x 8=\",n *8)\n",
    "    print(n,\"x 9=\",n *9)\n",
    "    print(n,\"x 10=\",n *10)\n",
    "n =1\n",
    "for i in range(1,5):\n",
    "    gen_multi_table(i)\n",
    "   \n"
   ]
  },
  {
   "cell_type": "code",
   "execution_count": null,
   "metadata": {},
   "outputs": [],
   "source": [
    "def multi_table(n):\n",
    "    for i in range(1,11):\n",
    "        print(\"{} x {} = {}\".format(n,i,n*i))\n",
    "n = input()\n",
    "n = int(n)\n",
    "multi_table(n)"
   ]
  },
  {
   "cell_type": "code",
   "execution_count": null,
   "metadata": {},
   "outputs": [],
   "source": [
    "\"10\"+\"10\" #concatanation"
   ]
  },
  {
   "cell_type": "code",
   "execution_count": null,
   "metadata": {},
   "outputs": [],
   "source": [
    "'10'*3\n",
    "# string will repeat 3 times"
   ]
  },
  {
   "cell_type": "code",
   "execution_count": null,
   "metadata": {},
   "outputs": [],
   "source": [
    "s = \"shafin\"\n",
    "s[0:3]"
   ]
  },
  {
   "cell_type": "code",
   "execution_count": null,
   "metadata": {},
   "outputs": [],
   "source": [
    "name = \"bangladesh\"\n",
    "name = name.upper() #lower and upper for captial or small letter of whole str\n",
    "print(name)"
   ]
  },
  {
   "cell_type": "code",
   "execution_count": null,
   "metadata": {},
   "outputs": [],
   "source": [
    "name  = \"haSAn\"\n",
    "name = name.capitalize()\n",
    "print(name)"
   ]
  },
  {
   "cell_type": "code",
   "execution_count": null,
   "metadata": {},
   "outputs": [],
   "source": [
    "\"Bangladesh\".find(\"desh\") #find desh word in bangladesh which start index 6"
   ]
  },
  {
   "cell_type": "code",
   "execution_count": null,
   "metadata": {},
   "outputs": [],
   "source": [
    "name = \"america\"\n",
    "name.startswith(\"ame\") #string start with ame\n",
    "name.endswith(\"ca\") #string end with ca"
   ]
  },
  {
   "cell_type": "code",
   "execution_count": null,
   "metadata": {},
   "outputs": [],
   "source": [
    "\"A,B,C,D\".split(\",\") #breaks with coma and returned a list"
   ]
  },
  {
   "cell_type": "code",
   "execution_count": null,
   "metadata": {},
   "outputs": [],
   "source": [
    "li = ['s','h','a','f','i','n']\n",
    "\"\".join(li)"
   ]
  },
  {
   "cell_type": "code",
   "execution_count": null,
   "metadata": {},
   "outputs": [],
   "source": [
    "i = 1\n",
    "while i<=10:\n",
    "    print(i)\n",
    "    i+=1"
   ]
  },
  {
   "cell_type": "code",
   "execution_count": null,
   "metadata": {},
   "outputs": [],
   "source": [
    "def multi_table(n):\n",
    "    for i in range(1,11):\n",
    "        print(\"{} x {} = {}\".format(n,i,n*i))\n",
    "n= input(\"Enter 0 to exit\")\n",
    "n = int(n)\n",
    "while n!=0:\n",
    "    multi_table(n)\n",
    "    print(\"\")\n",
    "    n= input(\"Enter 0 to exit\")\n",
    "    n = int(n)"
   ]
  },
  {
   "cell_type": "code",
   "execution_count": null,
   "metadata": {},
   "outputs": [],
   "source": [
    "li1 = [1,2,3,4]\n",
    "li2 = [5,6,7,8]\n",
    "li = li1+li2\n",
    "print(li)"
   ]
  },
  {
   "cell_type": "code",
   "execution_count": null,
   "metadata": {},
   "outputs": [],
   "source": [
    "li1.extend(li2) #adds two list\n",
    "print(li1)"
   ]
  },
  {
   "cell_type": "code",
   "execution_count": null,
   "metadata": {},
   "outputs": [],
   "source": [
    "li = [1,2,3,4]\n",
    "li.insert(1,10)#insert element(10) at index no 1\n",
    "print(li)"
   ]
  },
  {
   "cell_type": "code",
   "execution_count": null,
   "metadata": {},
   "outputs": [],
   "source": [
    "li = [11,22,44,66] \n",
    "print(li.index(66))"
   ]
  },
  {
   "cell_type": "code",
   "execution_count": null,
   "metadata": {},
   "outputs": [],
   "source": [
    "li = [22,44,55,22,99,88]\n",
    "li.remove(22) #it will remove first element\n",
    "print(li)"
   ]
  },
  {
   "cell_type": "code",
   "execution_count": null,
   "metadata": {},
   "outputs": [],
   "source": [
    "li = [44,2,64,23,1,545,-2]\n",
    "li.sort()\n",
    "print(li)"
   ]
  },
  {
   "cell_type": "code",
   "execution_count": null,
   "metadata": {},
   "outputs": [],
   "source": [
    "li.sort(reverse=True)\n",
    "print(li)"
   ]
  },
  {
   "cell_type": "code",
   "execution_count": null,
   "metadata": {},
   "outputs": [],
   "source": [
    "li.reverse()\n",
    "print(li)"
   ]
  },
  {
   "cell_type": "code",
   "execution_count": null,
   "metadata": {},
   "outputs": [],
   "source": [
    "tpl = (1,2,4,6) #list mutable but tuple immutable\n",
    "print(type(tpl))"
   ]
  },
  {
   "cell_type": "code",
   "execution_count": null,
   "metadata": {},
   "outputs": [],
   "source": [
    "print(tpl[0])"
   ]
  },
  {
   "cell_type": "code",
   "execution_count": null,
   "metadata": {},
   "outputs": [],
   "source": [
    "for item in tpl: #traversing tuple\n",
    "    print(item)"
   ]
  },
  {
   "cell_type": "code",
   "execution_count": null,
   "metadata": {},
   "outputs": [],
   "source": [
    "tpl[0] =33\n",
    "print(tpl)"
   ]
  },
  {
   "cell_type": "code",
   "execution_count": null,
   "metadata": {},
   "outputs": [],
   "source": [
    "tpl = 1,2,3\n",
    "print(tpl,type(tpl))"
   ]
  },
  {
   "cell_type": "code",
   "execution_count": null,
   "metadata": {},
   "outputs": [],
   "source": [
    "#check functions of tuple\n",
    "print(dir(tuple))"
   ]
  },
  {
   "cell_type": "code",
   "execution_count": null,
   "metadata": {},
   "outputs": [],
   "source": [
    "tpl = 1,2,3\n",
    "a,b,c  = tpl\n",
    "print(a,b,c)"
   ]
  },
  {
   "cell_type": "code",
   "execution_count": null,
   "metadata": {},
   "outputs": [],
   "source": [
    "#set\n",
    "s1={1,2,3,4}\n",
    "s2= {3,4,5,6}\n",
    "s1|s2 #union of set"
   ]
  },
  {
   "cell_type": "code",
   "execution_count": null,
   "metadata": {},
   "outputs": [],
   "source": [
    "s1={1,2,3,4}\n",
    "s2= {3,4,5,6}\n",
    "s1 & s2 #intersection of set"
   ]
  },
  {
   "cell_type": "code",
   "execution_count": null,
   "metadata": {},
   "outputs": [],
   "source": [
    "s1={1,2,3,4}\n",
    "s2= {3,4,5,6}\n",
    "s1-s2"
   ]
  },
  {
   "cell_type": "code",
   "execution_count": null,
   "metadata": {},
   "outputs": [],
   "source": [
    "s1={1,2,3,4}\n",
    "s2= {3,4,5,6}\n",
    "s1^s2 #either present in s1 or s2"
   ]
  },
  {
   "cell_type": "code",
   "execution_count": null,
   "metadata": {},
   "outputs": [],
   "source": [
    "#remove duplicate from list using set\n",
    "li = [1,2,3,5,6,6,5,4,4,4,3,66,77,77,99,100]\n",
    "li = list(set(li))\n",
    "print(li)"
   ]
  },
  {
   "cell_type": "code",
   "execution_count": null,
   "metadata": {},
   "outputs": [],
   "source": [
    "num_to_word = dict()\n",
    "num_to_word[1] = 'one'\n",
    "num_to_word[2] = 'two'\n",
    "num_to_word[3] = 'three'\n",
    "print(num_to_word)\n",
    "print(type(num_to_word))"
   ]
  },
  {
   "cell_type": "code",
   "execution_count": null,
   "metadata": {},
   "outputs": [],
   "source": [
    "num_to_word = {1:'one',3:'three',5:'five'}#key:'value'\n",
    "print(type(num_to_word))\n",
    "print(num_to_word)\n",
    "print(num_to_word[5])"
   ]
  },
  {
   "cell_type": "code",
   "execution_count": null,
   "metadata": {},
   "outputs": [],
   "source": [
    "num_to_word = {1:'one',3:'three',5:'five'}\n",
    "num_to_word[4] = 'four'#add another key\n",
    "print(num_to_word)\n",
    "del num_to_word[5]#delete a key\n",
    "print(num_to_word)\n"
   ]
  },
  {
   "cell_type": "code",
   "execution_count": null,
   "metadata": {},
   "outputs": [],
   "source": [
    "for key,value in num_to_word.items():\n",
    "    print(key,value)"
   ]
  },
  {
   "cell_type": "code",
   "execution_count": null,
   "metadata": {},
   "outputs": [],
   "source": [
    "print(dir(dict))"
   ]
  },
  {
   "cell_type": "code",
   "execution_count": null,
   "metadata": {},
   "outputs": [],
   "source": [
    "print(num_to_word.items())"
   ]
  },
  {
   "cell_type": "code",
   "execution_count": null,
   "metadata": {},
   "outputs": [],
   "source": [
    "fruits = {'A':'apple','B':'ball','c':'cat','d':'dog',}\n",
    "print(fruits.values())\n",
    "print(fruits.keys())"
   ]
  },
  {
   "cell_type": "code",
   "execution_count": null,
   "metadata": {},
   "outputs": [],
   "source": [
    "fruits = {'A':'apple','B':'ball','c':'cat','d':'dog',}\n",
    "fruits.clear()#remove all elements\n",
    "print(fruits)"
   ]
  },
  {
   "cell_type": "code",
   "execution_count": null,
   "metadata": {},
   "outputs": [],
   "source": [
    "fruits = {'A':'apple','B':'ball','c':'cat','d':'dog',}\n",
    "print(fruits.get('d'))\n",
    "print(fruits['A'])\n",
    "print(fruits.get('D'))#it returns none but fruits['D'] will show error"
   ]
  },
  {
   "cell_type": "code",
   "execution_count": null,
   "metadata": {},
   "outputs": [],
   "source": [
    "while True:\n",
    "    s= input()\n",
    "    if s=='q':\n",
    "        break\n",
    "    print(s.upper())"
   ]
  },
  {
   "cell_type": "code",
   "execution_count": null,
   "metadata": {},
   "outputs": [],
   "source": [
    "while True:\n",
    "    s = input()\n",
    "    print(s.upper())\n",
    "    s= input(\"do u want to continue?y/n\")\n",
    "    if s == \"y\":\n",
    "        continue\n",
    "    print(\"bye bye\")\n",
    "    break\n"
   ]
  },
  {
   "cell_type": "code",
   "execution_count": null,
   "metadata": {},
   "outputs": [],
   "source": [
    "li = [33,44,66,300,58,249]\n",
    "max_number = max(li)\n",
    "print(max_number)"
   ]
  },
  {
   "cell_type": "code",
   "execution_count": null,
   "metadata": {},
   "outputs": [],
   "source": [
    "li = [33,44,66,300,58,249]\n",
    "max_number = li[0]\n",
    "for i in li:\n",
    "    if i>max_number:\n",
    "        max_number = i\n",
    "        \n",
    "print(max_number)  \n",
    "     "
   ]
  },
  {
   "cell_type": "code",
   "execution_count": null,
   "metadata": {},
   "outputs": [],
   "source": [
    "li = [33,44,66,300,58,249]\n",
    "total = sum(li)\n",
    "print(total)"
   ]
  },
  {
   "cell_type": "code",
   "execution_count": null,
   "metadata": {},
   "outputs": [],
   "source": [
    "li = [33,44,66,300,58,249]\n",
    "sum = 0\n",
    "for i in li:\n",
    "    sum+=i\n",
    "print(sum)"
   ]
  },
  {
   "cell_type": "code",
   "execution_count": null,
   "metadata": {},
   "outputs": [],
   "source": [
    "li = [33,44,66,300,58,249]\n",
    "found = 300 in li\n",
    "print(found)"
   ]
  },
  {
   "cell_type": "code",
   "execution_count": null,
   "metadata": {},
   "outputs": [],
   "source": [
    "li = [33,44,66,300,58,249]\n",
    "key = 300\n",
    "flag = False\n",
    "for i in li:\n",
    "    if key==i:\n",
    "        print(\"found\")\n",
    "        flag = True\n",
    "        break\n",
    "if flag is False:\n",
    "    print(\"not found\")"
   ]
  },
  {
   "cell_type": "code",
   "execution_count": null,
   "metadata": {},
   "outputs": [],
   "source": [
    "li = list(range(0,11))\n",
    "print(li)"
   ]
  },
  {
   "cell_type": "code",
   "execution_count": null,
   "metadata": {},
   "outputs": [],
   "source": [
    "li = list(range(2,101,2))\n",
    "print(li)"
   ]
  },
  {
   "cell_type": "code",
   "execution_count": null,
   "metadata": {},
   "outputs": [],
   "source": [
    "''' list comprehensions '''\n",
    "li = [\"apple\",\"mango\",\"orange\",\"banana\",\"promegranate\",\"jackfruit\"]\n",
    "fruits = [fruit.capitalize() for fruit in li]\n",
    "print(fruits)"
   ]
  },
  {
   "cell_type": "code",
   "execution_count": null,
   "metadata": {},
   "outputs": [],
   "source": [
    "li_len = [len(x) for x in li]\n",
    "print(li_len)#it will print length of fruits name"
   ]
  },
  {
   "cell_type": "code",
   "execution_count": null,
   "metadata": {},
   "outputs": [],
   "source": [
    "cube_list = [x*x*x for x in range(1,11)]\n",
    "print(cube_list)"
   ]
  },
  {
   "cell_type": "code",
   "execution_count": null,
   "metadata": {},
   "outputs": [],
   "source": [
    "cube_list = [x*x*x for x in range(1,11) if x%2!=0]\n",
    "print(cube_list)\n"
   ]
  },
  {
   "cell_type": "code",
   "execution_count": null,
   "metadata": {},
   "outputs": [],
   "source": [
    "''' Set and dictionary comprehensions'''\n",
    "li = [(1,'one'),(2,'Two'),(3,'three'),(4,'four')]\n",
    "type(li)#list\n",
    "dt = {k:v for k,v in li}\n",
    "print(dt)#dictionary\n",
    "type(dt)"
   ]
  },
  {
   "cell_type": "code",
   "execution_count": null,
   "metadata": {},
   "outputs": [],
   "source": [
    "s=\"ahfahfbabuaiefalkafha\"\n",
    "uniq_letter = {c for c in s}\n",
    "type(uniq_letter)#set\n",
    "print(uniq_letter)"
   ]
  },
  {
   "cell_type": "code",
   "execution_count": null,
   "metadata": {},
   "outputs": [],
   "source": [
    "colors_choice = [('Messi','sky'),('ronaldo','red'),('neymar','yellow'),]\n",
    "type(colors_choice)#list\n",
    "colors_dt = {name:color for name,color in colors_choice}\n",
    "type(colors_dt)#dict\n",
    "print(colors_dt)\n",
    "colors_set ={color for color in dt.values()}\n",
    "type(colors_set)#set\n",
    "print(colors_set)\n",
    "colors_set = {color for color in colors_dt.values()}\n",
    "type(colors_set)#set\n",
    "print(colors_set)"
   ]
  }
 ],
 "metadata": {
  "kernelspec": {
   "display_name": "Python 3",
   "language": "python",
   "name": "python3"
  },
  "language_info": {
   "codemirror_mode": {
    "name": "ipython",
    "version": 3
   },
   "file_extension": ".py",
   "mimetype": "text/x-python",
   "name": "python",
   "nbconvert_exporter": "python",
   "pygments_lexer": "ipython3",
   "version": "3.12.2"
  }
 },
 "nbformat": 4,
 "nbformat_minor": 2
}
