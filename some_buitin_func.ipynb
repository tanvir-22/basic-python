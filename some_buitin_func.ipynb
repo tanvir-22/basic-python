{
 "cells": [
  {
   "cell_type": "code",
   "execution_count": 1,
   "metadata": {},
   "outputs": [
    {
     "name": "stdout",
     "output_type": "stream",
     "text": [
      "0 apple\n",
      "1 banana\n",
      "2 mango\n"
     ]
    }
   ],
   "source": [
    "fruits = ['apple','banana','mango']\n",
    "for index,fruit in enumerate(fruits): #this function will help to iterate index automatically\n",
    "    print(index,fruit)"
   ]
  },
  {
   "cell_type": "code",
   "execution_count": 5,
   "metadata": {},
   "outputs": [
    {
     "data": {
      "text/plain": [
       "6"
      ]
     },
     "execution_count": 5,
     "metadata": {},
     "output_type": "execute_result"
    }
   ],
   "source": [
    "round(6.5) #rounding figure if value grater than .5>then it will conver it to next integer"
   ]
  },
  {
   "cell_type": "code",
   "execution_count": 13,
   "metadata": {},
   "outputs": [
    {
     "name": "stdout",
     "output_type": "stream",
     "text": [
      "kamal\n",
      "kamal\n",
      "lamak\n",
      "lamak\n"
     ]
    }
   ],
   "source": [
    "text: str = 'kamal' #warlus operator\n",
    "my_slice = slice(None,5)#it will slice the string from 0 index to 5(not included)\n",
    "print(text[:5])\n",
    "print(text[my_slice])\n",
    "print(text[::-1])#inverting the string\n",
    "my_slice_invert = slice(None,None,-1)\n",
    "print(text[my_slice_invert])"
   ]
  },
  {
   "cell_type": "code",
   "execution_count": 15,
   "metadata": {},
   "outputs": [
    {
     "name": "stdout",
     "output_type": "stream",
     "text": [
      "False\n",
      "True\n"
     ]
    }
   ],
   "source": [
    "x = [0,0,0,1]\n",
    "print(all(x))\n",
    "print(any(x))"
   ]
  },
  {
   "cell_type": "code",
   "execution_count": 18,
   "metadata": {},
   "outputs": [
    {
     "name": "stdout",
     "output_type": "stream",
     "text": [
      "[1, 8, 27, 64, 125, 216]\n"
     ]
    }
   ],
   "source": [
    "def cube(x):\n",
    "    return x*x*x\n",
    "l= [1,2,3,4,5,6]\n",
    "x = map(cube,l)\n",
    "print(list(x))\n"
   ]
  },
  {
   "cell_type": "code",
   "execution_count": 20,
   "metadata": {},
   "outputs": [
    {
     "name": "stdout",
     "output_type": "stream",
     "text": [
      "[900]\n"
     ]
    }
   ],
   "source": [
    "li = [1,2,3,4,900]\n",
    "def filter_function(x):\n",
    "    return x>500\n",
    "q = filter(filter_function,li)\n",
    "print(list(q))"
   ]
  },
  {
   "cell_type": "code",
   "execution_count": 22,
   "metadata": {},
   "outputs": [
    {
     "name": "stdout",
     "output_type": "stream",
     "text": [
      "15\n"
     ]
    }
   ],
   "source": [
    "from functools import reduce\n",
    "def  my_sum(x,y):\n",
    "    return x+y\n",
    "li1 = [1,2,3,4,5]\n",
    "sum = reduce(my_sum,li1)\n",
    "print(sum)\n",
    "'''\n",
    "    [1+2,3,4,5]\n",
    "    [3+3,4,5]\n",
    "    [6+4,5]\n",
    "    [10+5]\n",
    "    15\n",
    "'''"
   ]
  },
  {
   "cell_type": "code",
   "execution_count": 24,
   "metadata": {},
   "outputs": [
    {
     "name": "stdout",
     "output_type": "stream",
     "text": [
      "['a', 'b', 'n', 'z']\n",
      "['z', 'n', 'b', 'a']\n"
     ]
    }
   ],
   "source": [
    "a_list = ['a','z','n','b']\n",
    "print(sorted(a_list))\n",
    "print(sorted(a_list,reverse=True))"
   ]
  },
  {
   "cell_type": "code",
   "execution_count": 25,
   "metadata": {},
   "outputs": [
    {
     "name": "stdout",
     "output_type": "stream",
     "text": [
      "7\n"
     ]
    }
   ],
   "source": [
    "a = input(\"enter any expression:\")#5+2=7\n",
    "print(eval(a)) "
   ]
  },
  {
   "cell_type": "code",
   "execution_count": 27,
   "metadata": {},
   "outputs": [
    {
     "name": "stdout",
     "output_type": "stream",
     "text": [
      "(('John', 'Jenny'), ('Charles', 'Christy'), ('Mike', 'Monica'))\n"
     ]
    }
   ],
   "source": [
    "a = (\"John\", \"Charles\", \"Mike\")\n",
    "b = (\"Jenny\", \"Christy\", \"Monica\", \"Vicky\")\n",
    "\n",
    "x = zip(a, b)\n",
    "print(tuple(x))"
   ]
  },
  {
   "cell_type": "code",
   "execution_count": 33,
   "metadata": {},
   "outputs": [
    {
     "name": "stdout",
     "output_type": "stream",
     "text": [
      "running from valueError\n",
      "running from finally code\n",
      "running from outside of exception block\n"
     ]
    }
   ],
   "source": [
    "'''Exception-Handling'''\n",
    "try:\n",
    "    num = int(input(\"enter a number:\"))\n",
    "    a = [10,20]\n",
    "    print(a[num])\n",
    "except ValueError: #if input is string it will run\n",
    "    print(\"running from valueError\")\n",
    "except IndexError: #if input is greater than 1 it will run\n",
    "    print(\"running from index error\")\n",
    "finally: #it will always run no matter what exception occurs or not\n",
    "    print(\"running from finally code\")\n",
    "print(\"running from outside of exception block\") #it will also always run "
   ]
  }
 ],
 "metadata": {
  "kernelspec": {
   "display_name": "base",
   "language": "python",
   "name": "python3"
  },
  "language_info": {
   "codemirror_mode": {
    "name": "ipython",
    "version": 3
   },
   "file_extension": ".py",
   "mimetype": "text/x-python",
   "name": "python",
   "nbconvert_exporter": "python",
   "pygments_lexer": "ipython3",
   "version": "3.11.5"
  }
 },
 "nbformat": 4,
 "nbformat_minor": 2
}
