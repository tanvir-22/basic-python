{
 "cells": [
  {
   "cell_type": "code",
   "execution_count": 104,
   "metadata": {},
   "outputs": [
    {
     "name": "stdout",
     "output_type": "stream",
     "text": [
      "<__main__.Student object at 0x00000120FFBEBD10>\n",
      "i am from init method\n",
      "<__main__.Student object at 0x00000120FFBEBD10>\n"
     ]
    }
   ],
   "source": [
    "class Student: #class name first word in capital letter\n",
    "    def __init__(self): #this is the constructor \n",
    "        print(self) #it shows the address of the object\n",
    "        print(\"i am from init method\")\n",
    "obj1 = Student() #object created\n",
    "print(obj1)"
   ]
  },
  {
   "cell_type": "code",
   "execution_count": 105,
   "metadata": {},
   "outputs": [
    {
     "name": "stdout",
     "output_type": "stream",
     "text": [
      "tanvir\n"
     ]
    }
   ],
   "source": [
    "class Student:\n",
    "    def __init__(self,s_name,s_id): #this is a parameterized constructor\n",
    "        self.name = s_name #instance variable\n",
    "        self.id = s_id\n",
    "\n",
    "s1 = Student(\"tanvir\",2021)\n",
    "print(s1.name) #access instance variable direct using object.variable"
   ]
  },
  {
   "cell_type": "code",
   "execution_count": 106,
   "metadata": {},
   "outputs": [
    {
     "name": "stdout",
     "output_type": "stream",
     "text": [
      "Name: jamal  Id: 202202\n"
     ]
    }
   ],
   "source": [
    "class Student:\n",
    "    def __init__(self,s_name,s_id):\n",
    "        self.name = s_name #instance variable\n",
    "        self.id = s_id\n",
    "    def details(self):\n",
    "        #this is a instance method and so passing self is must here\n",
    "        print(\"Name:\",self.name,\" Id:\",self.id)\n",
    "\n",
    "s1 = Student(\"jamal\",202202)\n",
    "s1.details()#access instance method using object name.method name"
   ]
  },
  {
   "cell_type": "code",
   "execution_count": 107,
   "metadata": {},
   "outputs": [
    {
     "name": "stdout",
     "output_type": "stream",
     "text": [
      "Window: 4  Door:  4\n",
      "Window: 10  Door:  4\n"
     ]
    }
   ],
   "source": [
    "class Home:\n",
    "    def __init__(self):\n",
    "        self.window = 4 #here instance variable value is already defined\n",
    "        self.door = 4\n",
    "    def showDetails(self):\n",
    "        print(\"Window:\",self.window,\" Door: \",self.door)\n",
    "\n",
    "h1 = Home()\n",
    "h1.showDetails()\n",
    "h1.window = 10 #here instance variable is updated\n",
    "h1.showDetails()"
   ]
  },
  {
   "cell_type": "code",
   "execution_count": 108,
   "metadata": {},
   "outputs": [
    {
     "name": "stdout",
     "output_type": "stream",
     "text": [
      "Name:  BMW  Model : 2020\n",
      "Name:  Audi  Model : 1999\n",
      "Name:  MAZDA  Model : 2020\n",
      "{'name': 'MAZDA', 'model': 2020}\n"
     ]
    }
   ],
   "source": [
    "class Car:\n",
    "    def __init__(self,name,model):\n",
    "        self.name = name \n",
    "        self.model = model\n",
    "    def update_name(self,name):\n",
    "        self.name = name\n",
    "    def view(self):\n",
    "        print(\"Name: \",self.name,\" Model :\",self.model)\n",
    "\n",
    "c1 = Car(\"BMW\",2020)\n",
    "c2  = Car(\"Audi\",1999)\n",
    "c1.view()\n",
    "c2.view()\n",
    "c1.update_name(\"MAZDA\") #updating instance variable using method\n",
    "c1.view()\n",
    "print(c1.__dict__) #print values as dictionary"
   ]
  },
  {
   "cell_type": "code",
   "execution_count": 109,
   "metadata": {},
   "outputs": [
    {
     "name": "stdout",
     "output_type": "stream",
     "text": [
      "name  misir ali \n",
      "author:  humayun ahmed \n",
      "price :  500tk\n",
      "500tk\n"
     ]
    }
   ],
   "source": [
    "''' setter and getter Method '''\n",
    "class Book:\n",
    "    def __init__(self,name,author):\n",
    "        self.name = name \n",
    "        self.author = author\n",
    "        self.price = 0\n",
    "    def set_price(self,price): #setter method\n",
    "        self.price = price\n",
    "    def get_price(self): #getter method\n",
    "        return self.price\n",
    "    def details(self):\n",
    "        print(\"name \",self.name,\"\\nauthor: \",self.author,\"\\nprice : \",self.price)\n",
    "\n",
    "b1 = Book(\"misir ali\",\"humayun ahmed\")\n",
    "# b1.details()\n",
    "b1.set_price(\"500tk\")\n",
    "b1.details()\n",
    "print(b1.get_price())"
   ]
  },
  {
   "cell_type": "code",
   "execution_count": 110,
   "metadata": {},
   "outputs": [
    {
     "name": "stdout",
     "output_type": "stream",
     "text": [
      "color:  BLACK \n",
      "action:  eating\n",
      "color:  Blue \n",
      "action:  running\n",
      "the actions are different\n"
     ]
    }
   ],
   "source": [
    "###Pass by reference\n",
    "\n",
    "class Cat:\n",
    "    def __init__(self ,color,action):\n",
    "        self.color = color\n",
    "        self.action = action\n",
    "    def view(self):\n",
    "        print(\"color: \",self.color,\"\\naction: \",self.action)\n",
    "    def compare_act(self,ct):\n",
    "        if self.action == ct.action: #here self is cat1 and ct is cat2\n",
    "            print(\"the action are same\")\n",
    "        else:\n",
    "            print(\"the actions are different\")\n",
    "            \n",
    "cat1 = Cat(\"BLACK\",\"eating\")\n",
    "cat2 = Cat(\"Blue\",\"running\")\n",
    "cat1.view()\n",
    "cat2.view()\n",
    "cat1.compare_act(cat2)#calling by cat1 and passing whole cat2 object\n"
   ]
  },
  {
   "cell_type": "code",
   "execution_count": 111,
   "metadata": {},
   "outputs": [
    {
     "name": "stdout",
     "output_type": "stream",
     "text": [
      "Inside method:  60\n",
      "\n",
      "Inside method:  ['Magenda', 'white', 'green']\n",
      "outside class: 55\n",
      "outside class ['Magenda', 'white', 'green']\n"
     ]
    }
   ],
   "source": [
    "class Cat:\n",
    "    def __init__(self ,color,action):\n",
    "        self.color = color\n",
    "        self.action = action\n",
    "    def view(self,num,clr):\n",
    "        num = num+5\n",
    "        clr_li = clr\n",
    "        clr_li[0] = \"Magenda\"\n",
    "        print(\"Inside method: \",num)\n",
    "        print(\"\\nInside method: \",clr_li)\n",
    "\n",
    "color = [\"blue\",\"white\",\"green\"]\n",
    "x = 55\n",
    "c1 = Cat(\"black\",\"sleeping\")\n",
    "c1.view(x,color)#here x is passing as value but color is passing as refrence\n",
    "print(\"outside class:\",x)\n",
    "print(\"outside class\",color)\n",
    "\n"
   ]
  },
  {
   "cell_type": "code",
   "execution_count": 112,
   "metadata": {},
   "outputs": [
    {
     "name": "stdout",
     "output_type": "stream",
     "text": [
      "10\n",
      "200\n",
      "6000\n"
     ]
    }
   ],
   "source": [
    "'''MEthod overloading''' # one method and multiple parameter\n",
    "#way-1\n",
    "class Calculator:\n",
    "    def product(self,n1=None,n2=None,n3=None):\n",
    "        if n1!=None and n2!= None and n3!= None:\n",
    "            print(n1*n2*n3)\n",
    "        elif n1!=None and n2!=None:\n",
    "            print(n1*n2)\n",
    "        else:\n",
    "            print(1*n1)\n",
    "obj1 = Calculator()\n",
    "obj1.product(10)\n",
    "obj1.product(10,20)\n",
    "obj1.product(10,20,30)\n",
    "\n"
   ]
  },
  {
   "cell_type": "code",
   "execution_count": 113,
   "metadata": {},
   "outputs": [
    {
     "name": "stdout",
     "output_type": "stream",
     "text": [
      "4\n",
      "24\n",
      "36\n",
      "2592\n"
     ]
    }
   ],
   "source": [
    "#way-2 of method overloading !\n",
    "class Calculator:\n",
    "    def product(self,*num):#*num receving value as tuples\n",
    "        pro=1\n",
    "        for x in num: #traversing the tuples\n",
    "            pro = pro * x\n",
    "        print(pro)\n",
    "obj1 = Calculator()\n",
    "obj1.product(4)\n",
    "obj1.product(4,2,3)\n",
    "obj1.product(4,9)\n",
    "obj1.product(4,3,6,3,6,2)\n",
    "\n"
   ]
  },
  {
   "cell_type": "code",
   "execution_count": 114,
   "metadata": {},
   "outputs": [
    {
     "ename": "ImportError",
     "evalue": "cannot import name 'dispactch' from 'multipledispatch' (c:\\Users\\shafi\\anaconda3\\Lib\\site-packages\\multipledispatch\\__init__.py)",
     "output_type": "error",
     "traceback": [
      "\u001b[1;31m---------------------------------------------------------------------------\u001b[0m",
      "\u001b[1;31mImportError\u001b[0m                               Traceback (most recent call last)",
      "Cell \u001b[1;32mIn[114], line 2\u001b[0m\n\u001b[0;32m      1\u001b[0m \u001b[38;5;66;03m#way-3 of method overloading:\u001b[39;00m\n\u001b[1;32m----> 2\u001b[0m \u001b[38;5;28;01mfrom\u001b[39;00m \u001b[38;5;21;01mmultipledispatch\u001b[39;00m \u001b[38;5;28;01mimport\u001b[39;00m dispactch\n\u001b[0;32m      3\u001b[0m \u001b[38;5;28;01mclass\u001b[39;00m \u001b[38;5;21;01mCalculator\u001b[39;00m:\n\u001b[0;32m      4\u001b[0m     \u001b[38;5;129m@dispactch\u001b[39m(\u001b[38;5;28mint\u001b[39m,\u001b[38;5;28mint\u001b[39m) \n\u001b[0;32m      5\u001b[0m     \u001b[38;5;28;01mdef\u001b[39;00m \u001b[38;5;21mproduct\u001b[39m(\u001b[38;5;28mself\u001b[39m,a,b):\n",
      "\u001b[1;31mImportError\u001b[0m: cannot import name 'dispactch' from 'multipledispatch' (c:\\Users\\shafi\\anaconda3\\Lib\\site-packages\\multipledispatch\\__init__.py)"
     ]
    }
   ],
   "source": [
    "#way-3 of method overloading:\n",
    "from multipledispatch import dispactch\n",
    "class Calculator:\n",
    "    @dispactch(int,int) \n",
    "    def product(self,a,b):\n",
    "        print(a*b)\n",
    "    @dispactch(int)\n",
    "    def product(self,a):\n",
    "        print(a)\n",
    "    dispactch(str,int)\n",
    "    def product(self,a,b):\n",
    "        print(int(a)*b) #converting string to integer and then product\n",
    "    \n",
    "obj1 = Calculator()\n",
    "obj1.product(\"3\",4)\n",
    "obj1.product(1,4)\n",
    "obj1.product(8)\n",
    "\n",
    "\n"
   ]
  },
  {
   "cell_type": "code",
   "execution_count": null,
   "metadata": {},
   "outputs": [
    {
     "name": "stdout",
     "output_type": "stream",
     "text": [
      "Total window:  6 Total door:  2\n",
      "Total window:  4 Total door:  1\n"
     ]
    },
    {
     "data": {
      "text/plain": [
       "'after adding  total window=10 total door=3'"
      ]
     },
     "execution_count": 2,
     "metadata": {},
     "output_type": "execute_result"
    }
   ],
   "source": [
    "'''operator overloading'''\n",
    "class Home:\n",
    "    def __init__(self,w,d):\n",
    "        self.window = w\n",
    "        self.door = d\n",
    "    def view(self):\n",
    "        print(\"Total window: \",self.window,\"Total door: \",self.door)\n",
    "    def __add__(self,other):\n",
    "        new_window = self.window + other.window\n",
    "        new_door = self.door + other.door\n",
    "        return \"after adding \"+\" total window=\"+str(new_window)+\" total door=\"+str(new_door)\n",
    "\n",
    "h1 = Home(6,2)\n",
    "h2 = Home(4,1)\n",
    "h1.view()\n",
    "h2.view()\n",
    "h1.__add__(h2)\n",
    "     "
   ]
  },
  {
   "cell_type": "code",
   "execution_count": null,
   "metadata": {},
   "outputs": [
    {
     "name": "stdout",
     "output_type": "stream",
     "text": [
      "Total window:  6 Total door:  2\n",
      "Total window:  4 Total door:  1\n",
      "Total window:  10 Total door:  3\n"
     ]
    }
   ],
   "source": [
    "'''operator overloading creating object inside method'''\n",
    "class Home:\n",
    "    def __init__(self,w,d):\n",
    "        self.window = w \n",
    "        self.door = d\n",
    "    def view(self):\n",
    "        print(\"Total window: \",self.window,\"Total door: \",self.door)\n",
    "    def __add__(self,other): #self =h1 // other = h2\n",
    "        new_window = self.window + other.window\n",
    "        new_door = self.door + other.door\n",
    "        obj = Home(new_window,new_door)\n",
    "        return obj\n",
    "\n",
    "h1= Home(6,2)\n",
    "h2 = Home(4,1)\n",
    "h1.view()\n",
    "h2.view()\n",
    "h3 = h1+h2 #h1.__add__(h2) this is same \n",
    "h3.view() \n",
    "\n"
   ]
  },
  {
   "cell_type": "code",
   "execution_count": null,
   "metadata": {},
   "outputs": [
    {
     "name": "stdout",
     "output_type": "stream",
     "text": [
      "NAme:  jamal id =  22\n",
      "invalid!Enter again\n",
      "NAme:  jamal id =  22\n"
     ]
    }
   ],
   "source": [
    "'''Encapsulation'''\n",
    "class Student:\n",
    "    def __init__(self,name,id):\n",
    "        self.name = name \n",
    "        self.__id = id #double underscore means this is a private variable\n",
    "    def details(self):\n",
    "        print(\"NAme: \",self.name,\"id = \",self.__id)\n",
    "    def update_id(self,id):\n",
    "        if id>0:\n",
    "            self.__id = id\n",
    "        else:\n",
    "            print(\"invalid!Enter again\")\n",
    "\n",
    "\n",
    "\n",
    "obj1 = Student(\"jamal\",22)\n",
    "obj1.details() \n",
    "# print(obj1.__id) #here you cannot access instance variable directly as it is a private variable\n",
    "obj1.id = 10 #it is creating another variable and it is not upgrading main id in class\n",
    "obj1.update_id(-99) #this id can't be updated as id is less then 0\n",
    "obj1.details()\n"
   ]
  },
  {
   "cell_type": "code",
   "execution_count": null,
   "metadata": {},
   "outputs": [
    {
     "name": "stdout",
     "output_type": "stream",
     "text": [
      "name: hasan id:  2020\n",
      "INVAlid !ID must be greater than 0\n",
      "ishan\n",
      "2020\n",
      "name: ishan id:  2020\n",
      "name: ishan id:  2020\n"
     ]
    }
   ],
   "source": [
    "'''Encapsulation'''\n",
    "'''Getter and Setter MEthod'''\n",
    "class Student:\n",
    "    def __init__(self,name,id):\n",
    "        self.__name = name #private instance variable \n",
    "        self.__id = id  #private instance variable\n",
    "\n",
    "    def view(self):\n",
    "        print (\"name:\",self.__name,\"id: \",self.__id)\n",
    "    def set_name(self,name):\n",
    "        self.__name = name \n",
    "    def set_id(self,id):\n",
    "        if id>0:\n",
    "            self.__id = id \n",
    "        else:\n",
    "            print(\"INVAlid !ID must be greater than 0\")\n",
    "    def get_name(self):\n",
    "        return self.__name\n",
    "    def get_id(self):\n",
    "        return self.__id\n",
    "    \n",
    "\n",
    "obj1 = Student(\"hasan\",2020)\n",
    "obj1.view()\n",
    "#to update use setter method \n",
    "obj1.set_name(\"ishan\")\n",
    "obj1.set_id(-4590)\n",
    "print(obj1.get_name()) #to print just name use getter method\n",
    "print(obj1.get_id())\n",
    "obj1.view()\n",
    "obj1.__name = \"kamal\" #here u can't access the name variable direct as it is private \n",
    "obj1.view()"
   ]
  },
  {
   "cell_type": "code",
   "execution_count": null,
   "metadata": {},
   "outputs": [
    {
     "ename": "AttributeError",
     "evalue": "'Student' object has no attribute '__Methodp'",
     "output_type": "error",
     "traceback": [
      "\u001b[1;31m---------------------------------------------------------------------------\u001b[0m",
      "\u001b[1;31mAttributeError\u001b[0m                            Traceback (most recent call last)",
      "Cell \u001b[1;32mIn[26], line 13\u001b[0m\n\u001b[0;32m     10\u001b[0m         \u001b[38;5;28mprint\u001b[39m(\u001b[38;5;124m\"\u001b[39m\u001b[38;5;124mprivate method executed!!\u001b[39m\u001b[38;5;124m\"\u001b[39m)\n\u001b[0;32m     12\u001b[0m s1 \u001b[38;5;241m=\u001b[39m Student(\u001b[38;5;124m\"\u001b[39m\u001b[38;5;124mhasan\u001b[39m\u001b[38;5;124m\"\u001b[39m,\u001b[38;5;241m3434\u001b[39m)\n\u001b[1;32m---> 13\u001b[0m s1\u001b[38;5;241m.\u001b[39m__Methodp()\n\u001b[0;32m     14\u001b[0m s1\u001b[38;5;241m.\u001b[39mdetails()\n",
      "\u001b[1;31mAttributeError\u001b[0m: 'Student' object has no attribute '__Methodp'"
     ]
    }
   ],
   "source": [
    "'''Private Method'''\n",
    "class Student:\n",
    "    def __init__(self,name,id):\n",
    "        self.name = name\n",
    "        self.id = id\n",
    "    def details(self):\n",
    "        print(\"name: \",self.name,\"id: \",self.id)\n",
    "        self.__Methodp()\n",
    "    def __Methodp(self): #this is a private method\n",
    "        print(\"private method executed!!\")\n",
    "    \n",
    "s1 = Student(\"hasan\",3434)\n",
    "s1.__Methodp()#here private method can't be accessible outside the class\n",
    "s1.details()\n"
   ]
  },
  {
   "cell_type": "code",
   "execution_count": null,
   "metadata": {},
   "outputs": [
    {
     "name": "stdout",
     "output_type": "stream",
     "text": [
      "tamim: 8\n",
      "sakib: 6\n",
      "total run: 14\n"
     ]
    }
   ],
   "source": [
    "'''Static variable'''\n",
    "class Player:\n",
    "    team_run = 0 #this is a static variable\n",
    "    def __init__(self,run):\n",
    "        self.run = run \n",
    "    def hit_six(self):\n",
    "        self.run+=6\n",
    "        Player.team_run+=6\n",
    "    def hit_four(self):\n",
    "        self.run+=4\n",
    "        Player.team_run+=4\n",
    "\n",
    "    \n",
    "\n",
    "tamim = Player(0)\n",
    "sakib = Player(0)\n",
    "tamim.hit_four()\n",
    "tamim.hit_four()\n",
    "sakib.hit_six()\n",
    "print(\"tamim:\",tamim.run)\n",
    "print(\"sakib:\",sakib.run)\n",
    "print(\"total run:\",Player.team_run) "
   ]
  },
  {
   "cell_type": "code",
   "execution_count": null,
   "metadata": {},
   "outputs": [
    {
     "name": "stdout",
     "output_type": "stream",
     "text": [
      "name: hashem id:  22 Total Student:  3\n"
     ]
    }
   ],
   "source": [
    "class Student:\n",
    "    counter = 0\n",
    "    def __init__(self,name,id):\n",
    "        self.name = name\n",
    "        self.id = id\n",
    "        Student.counter+=1\n",
    "    def details(self):\n",
    "        print(\"name:\",self.name,\"id: \",self.id,\"Total Student: \",Student.counter)\n",
    "\n",
    "s1 = Student(\"hashem\",22)\n",
    "s2 = Student(\"ishan\",99)\n",
    "s3 = Student(\"jamal\",77)\n",
    "s1.details() #as total three time constructor called so total student is three"
   ]
  },
  {
   "cell_type": "code",
   "execution_count": null,
   "metadata": {},
   "outputs": [
    {
     "name": "stdout",
     "output_type": "stream",
     "text": [
      "name: mikel id:  22 KUET\n",
      "name: blackman id:  201 KUET\n",
      "name: mikel id:  22 BUET\n",
      "name: blackman id:  201 BUET\n"
     ]
    }
   ],
   "source": [
    "'''CLASS METHOD'''\n",
    "class Student:\n",
    "    uni_name = \"KUET\"\n",
    "    def __init__(self,name,id):\n",
    "        self.name = name\n",
    "        self.id = id\n",
    "    def details(self):\n",
    "        print(\"name:\",self.name,\"id: \",self.id,Student.uni_name)\n",
    "\n",
    "    @classmethod #decoretor\n",
    "    def update_uniName(cls,u_name): #passing cls instead of self\n",
    "        cls.uni_name = u_name\n",
    "\n",
    "\n",
    "\n",
    "\n",
    "\n",
    "s1 = Student(\"mikel\",22)\n",
    "s2 = Student(\"blackman\",201)\n",
    "\n",
    "s1.details()\n",
    "s2.details()\n",
    "Student.update_uniName(\"BUET\")\n",
    "s1.details()\n",
    "s2.details()"
   ]
  },
  {
   "cell_type": "code",
   "execution_count": null,
   "metadata": {},
   "outputs": [
    {
     "name": "stdout",
     "output_type": "stream",
     "text": [
      "name: jamal id:  33 Buet\n"
     ]
    }
   ],
   "source": [
    "'''constructor overloading'''\n",
    "class Student:\n",
    "    uni_name = \"Buet\"\n",
    "    def __init__(self,name,id):\n",
    "        self.name =name\n",
    "        self.id = id\n",
    "    def details(self):\n",
    "        print(\"name:\",self.name,\"id: \",self.id,Student.uni_name)\n",
    "    @classmethod #decoretor\n",
    "    def update_uniName(cls,u_name): #passing cls instead of self\n",
    "        cls.uni_name = u_name   \n",
    "\n",
    "    @classmethod\n",
    "    def from_str(cls,info):\n",
    "        name,id = info.split('-')\n",
    "        obj = Student(name,id) #instead of this cls(name ,id ) can be written\n",
    "        return obj\n",
    "\n",
    "s1 = Student.from_str(\"jamal-33\")\n",
    "s1.details()\n",
    "\n"
   ]
  },
  {
   "cell_type": "code",
   "execution_count": null,
   "metadata": {},
   "outputs": [
    {
     "name": "stdout",
     "output_type": "stream",
     "text": [
      "BBA\n"
     ]
    }
   ],
   "source": [
    "'''Static Method'''\n",
    "class Student:\n",
    "    def __init__(self,name,id):\n",
    "        self.name = name\n",
    "        self.id = id\n",
    "    def details(self):\n",
    "        print(\"name: \",self.name,\"id: \",self.id)\n",
    "    @staticmethod\n",
    "    def check_dep(id):\n",
    "        if id[3:5]==\"01\":\n",
    "            print(\"cse\")\n",
    "        else:\n",
    "            print(\"BBA\")\n",
    "\n",
    "Student.check_dep(\"22323234\")\n",
    "    "
   ]
  },
  {
   "cell_type": "code",
   "execution_count": null,
   "metadata": {},
   "outputs": [
    {
     "name": "stdout",
     "output_type": "stream",
     "text": [
      "kitty  is eating\n",
      "kitty  is barking\n",
      "True\n"
     ]
    }
   ],
   "source": [
    "'''INHERITANCE'''\n",
    "class Animal:\n",
    "    def __init__(self,name):\n",
    "        self.name = name\n",
    "    def eating(self):\n",
    "        print(self.name,\" is eating\")\n",
    "\n",
    "class Dog(Animal): #dog is subclass it is inheriting the superclass Animal\n",
    "    def bark(self):\n",
    "        print(self.name,\" is barking\")\n",
    "\n",
    "a1 = Animal(\"jack\")\n",
    "d1 = Dog(\"kitty\")\n",
    "d1.eating() #as dog inherits animal class so d1 can access its parents class method\n",
    "d1.bark()\n",
    "print(isinstance(d1,Animal)) #checking if d1 obj is the subclass of Animal class\n",
    "\n",
    "\n"
   ]
  },
  {
   "cell_type": "code",
   "execution_count": null,
   "metadata": {},
   "outputs": [
    {
     "name": "stdout",
     "output_type": "stream",
     "text": [
      "parib  is enjoying lab no:  5\n",
      "name:  parib id:  2232432\n",
      "name:  kaium id:  2225635\n",
      "kaium is Tried because of presentation\n",
      "parib is studying\n"
     ]
    }
   ],
   "source": [
    "'''Hierarchial Inheritance'''\n",
    "class Student:\n",
    "    def __init__(self,name,id):\n",
    "        self.name = name\n",
    "        self.id = id\n",
    "    def details(self):\n",
    "        print(\"name: \",self.name,\"id: \",self.id)\n",
    "    def studying(self):\n",
    "        print(self.name,\"is studying\")\n",
    "\n",
    "class CSE_student(Student):\n",
    "    def  __init__(self,name,id,lab):\n",
    "        super().__init__(name,id)\n",
    "        self.lab = lab\n",
    "    def cry(self):\n",
    "        print(self.name,\" is enjoying lab no: \",self.lab)\n",
    "\n",
    "class BBA_student(Student):\n",
    "    def presentation(self):\n",
    "        print(self.name,\"is Tried because of presentation\")\n",
    "    \n",
    "c1 = CSE_student(\"parib\",2232432,5)\n",
    "c1.cry()\n",
    "c1.details()\n",
    "b1 = BBA_student(\"kaium\",2225635)\n",
    "b1.details()\n",
    "b1.presentation()\n",
    "c1.studying()"
   ]
  },
  {
   "cell_type": "code",
   "execution_count": null,
   "metadata": {},
   "outputs": [
    {
     "name": "stdout",
     "output_type": "stream",
     "text": [
      "init of class B\n",
      "Method1 of class A\n",
      "Method1 of class B\n"
     ]
    }
   ],
   "source": [
    "'''Multiple inheritance'''\n",
    "class A:\n",
    "    def __init__(self):\n",
    "        print(\"init of class A\")\n",
    "    def method1(self):\n",
    "        print(\"Method1 of class A\")\n",
    "class B:\n",
    "    def __init__(self):\n",
    "        print(\"init of class B\")\n",
    "    def method1(self):\n",
    "        print(\"Method1 of class B\")\n",
    "class C(A,B):\n",
    "    def __init__(self):\n",
    "     \n",
    "    # super().__init__() #as A is in the first parameter so it will invade in class a first\n",
    "     B.__init__(self) #if we want the B class constructor \n",
    "   # print(\"init of Class C\")\n",
    "     def method2(self):\n",
    "        print(\"method2 of class C\")\n",
    "c1 = C()\n",
    "c1.method1() #as A is the first method of Class C\n",
    "B.method1(c1) #if we want to call method1 of class b "
   ]
  },
  {
   "cell_type": "code",
   "execution_count": null,
   "metadata": {},
   "outputs": [
    {
     "name": "stdout",
     "output_type": "stream",
     "text": [
      "blue jimmy  is eating\n"
     ]
    }
   ],
   "source": [
    "'''VARIABLE OVERRIDING'''\n",
    "class Animal:\n",
    "    def __init__(self,name):\n",
    "        self.name = name\n",
    "        self.color = \"white\"\n",
    "    def eat(self):\n",
    "        print(self.color,self.name,\" is eating\")\n",
    "\n",
    "class Dog(Animal):\n",
    "    def __init__(self,name,color):\n",
    "        super().__init__(name)\n",
    "        self.color = color #overriding the variable\n",
    "    def bark(self):\n",
    "        print(self.color,self.name,\" is barking\")\n",
    "d1 = Dog('jimmy',\"blue\")\n",
    "d1.eat()\n",
    "\n"
   ]
  },
  {
   "cell_type": "code",
   "execution_count": null,
   "metadata": {},
   "outputs": [
    {
     "name": "stdout",
     "output_type": "stream",
     "text": [
      "init of child class\n",
      "the address of c1 <__main__.Child object at 0x0000012080C94190>\n",
      "method 1 of child class <__main__.Child object at 0x0000012080C94190>\n",
      "no study\n",
      "method1 of Parent <__main__.Child object at 0x0000012080C94190>\n",
      "Always Study\n"
     ]
    }
   ],
   "source": [
    "'''Method overriding'''\n",
    "class Parent:\n",
    "    def __init__(self):\n",
    "        print(\"init of class parent\")\n",
    "    def method1(self):\n",
    "        print(\"method1 of Parent\",self)\n",
    "        print(\"Always Study\")\n",
    "    def method2(self):\n",
    "        print(\"you will get all my property\")\n",
    "class Child(Parent):\n",
    "    def __init__(self):\n",
    "        print(\"init of child class\")\n",
    "    def method1(self):\n",
    "        print(\"method 1 of child class\",self)\n",
    "        print(\"no study\")\n",
    " \n",
    "c1 = Child()\n",
    "print(\"the address of c1\",c1) #the address of c1 and the self in method1(self) is the same\n",
    "c1.method1()#it will check the method first in its class then the parent calss\n",
    "Parent.method1(c1)"
   ]
  },
  {
   "cell_type": "code",
   "execution_count": null,
   "metadata": {},
   "outputs": [
    {
     "name": "stdout",
     "output_type": "stream",
     "text": [
      "<__main__.Engine object at 0x0000012080DDBF90>\n",
      "engine started\n",
      "car is running\n"
     ]
    }
   ],
   "source": [
    "'''compostion'''\n",
    "'''A car has a engine not a car is a engine'''\n",
    "'''engine object inside the car class'''\n",
    "class Engine:\n",
    "    def __init__(self,cc):\n",
    "        self.cc =cc\n",
    "    def start(self):\n",
    "        print(\"engine started\")\n",
    "    def stop(self):\n",
    "        print(\"engine stopped\")\n",
    "\n",
    "class Car:\n",
    "    def __init__(self,name,cc):\n",
    "        self.name = name\n",
    "        self.engine = Engine(500) #creating object of engine class with reference of car class\n",
    "        print(self.engine)\n",
    "    def run(self):\n",
    "        self.engine.start()\n",
    "        print(\"car is running\")\n",
    "\n",
    "c1 =Car(\"BMW\",2323)\n",
    "c1.run()\n"
   ]
  },
  {
   "cell_type": "code",
   "execution_count": null,
   "metadata": {},
   "outputs": [
    {
     "name": "stdout",
     "output_type": "stream",
     "text": [
      "method1 is overridden\n",
      "method2 is overridden\n"
     ]
    }
   ],
   "source": [
    "'''Abstraction'''\n",
    "'''can't create object of a abstract class'''\n",
    "'''abstract method don't have a body'''\n",
    "'''must implement abstract method body in subclass'''\n",
    "'''all abstract method must be overridden to create a concrete class'''\n",
    "'''normal class can have abstract method'''\n",
    "from abc import ABC, abstractclassmethod, abstractmethod\n",
    "class A(ABC):\n",
    "    @abstractmethod\n",
    "    def method1(self):\n",
    "        pass\n",
    "class B(A):\n",
    "    @abstractmethod \n",
    "    def method2(self):\n",
    "        pass\n",
    "class C(B):\n",
    "    def method1(self):\n",
    "        print(\"method1 is overridden\")\n",
    "    def method2(self):\n",
    "        print(\"method2 is overridden\")\n",
    "obj = C()\n",
    "obj.method1()\n",
    "obj.method2()"
   ]
  }
 ],
 "metadata": {
  "kernelspec": {
   "display_name": "Python 3",
   "language": "python",
   "name": "python3"
  },
  "language_info": {
   "codemirror_mode": {
    "name": "ipython",
    "version": 3
   },
   "file_extension": ".py",
   "mimetype": "text/x-python",
   "name": "python",
   "nbconvert_exporter": "python",
   "pygments_lexer": "ipython3",
   "version": "3.11.5"
  }
 },
 "nbformat": 4,
 "nbformat_minor": 2
}
