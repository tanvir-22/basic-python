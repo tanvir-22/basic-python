{
 "cells": [
  {
   "cell_type": "code",
   "execution_count": 6,
   "metadata": {},
   "outputs": [
    {
     "name": "stdout",
     "output_type": "stream",
     "text": [
      "<class 'tuple'>\n",
      "<class 'tuple'>\n",
      "<class 'tuple'>\n",
      "size of mytuple2 is:  3\n",
      "<class 'tuple'>\n",
      "<class 'tuple'>\n"
     ]
    }
   ],
   "source": [
    "'''declaring tuple'''\n",
    "mytuple = (\"apple\",\"banana\",\"cherry\")\n",
    "print(type(mytuple))\n",
    "mytuple1 = tuple((\"rahim\",\"karim\",\"ishan\"))\n",
    "print(type(mytuple1))\n",
    "mytuple2 = \"white\",\"blue\",\"red\"\n",
    "print(type(mytuple2))\n",
    "print(\"size of mytuple2 is: \",len(mytuple2))\n",
    "one_item_tuple = (\"MIT\",)\n",
    "print(type(one_item_tuple))\n",
    "tuple_Q = (\"name\",32,\"id\",\"DOB\",False)\n",
    "print(type(tuple_Q))"
   ]
  },
  {
   "cell_type": "code",
   "execution_count": 15,
   "metadata": {},
   "outputs": [
    {
     "name": "stdout",
     "output_type": "stream",
     "text": [
      "apple\n",
      "('c', 'd', 'e')\n",
      "('a', 'b', 'c', 'd', 'e')\n",
      "('e', 'f', 'g')\n",
      "true\n"
     ]
    }
   ],
   "source": [
    "'''ACCESSING tuple'''\n",
    "print(mytuple[0])\n",
    "test_tuple = (\"a\",\"b\",\"c\",\"d\",\"e\",\"f\",\"g\",\"h\")#iteratin 0,1,2,3,4,5,6\n",
    "print(test_tuple[2:5])#c=2,e=4,f=5(not included)\n",
    "print(test_tuple[:5])#0 to before 5\n",
    "print(test_tuple[-4:-1])#h=-1(not included)\n",
    "def isPresent(test_tuple):\n",
    "    if \"a\" in test_tuple: #check the item in tuple\n",
    "        print(\"true\")\n",
    "isPresent(test_tuple)"
   ]
  },
  {
   "cell_type": "code",
   "execution_count": 16,
   "metadata": {},
   "outputs": [
    {
     "name": "stdout",
     "output_type": "stream",
     "text": [
      "('apple', 'banana', 'cherry', 'papaya')\n"
     ]
    }
   ],
   "source": [
    "'''convert tuples '''\n",
    "li1 = list(mytuple)#converted to list\n",
    "li1.append(\"papaya\")\n",
    "mytuple = tuple(li1)\n",
    "print(mytuple)"
   ]
  },
  {
   "cell_type": "code",
   "execution_count": 20,
   "metadata": {},
   "outputs": [
    {
     "name": "stdout",
     "output_type": "stream",
     "text": [
      "hp =  computer\n",
      "AC =  AC\n",
      "calculas =  book\n"
     ]
    }
   ],
   "source": [
    "'''unpack Tuple'''\n",
    "Tup1 = (\"computer\",\"AC\",\"book\")\n",
    "(hp,lg,calculas) = Tup1\n",
    "print(\"hp = \",hp)\n",
    "print(\"AC = \",lg)\n",
    "print(\"calculas = \",calculas)\n"
   ]
  },
  {
   "cell_type": "code",
   "execution_count": 26,
   "metadata": {},
   "outputs": [
    {
     "name": "stdout",
     "output_type": "stream",
     "text": [
      "apple\n",
      "banana\n",
      "cherry\n",
      "papaya\n",
      "\n",
      "\n",
      "white\n",
      "blue\n",
      "red\n"
     ]
    }
   ],
   "source": [
    "'''PRINT Tuple using loop'''\n",
    "for i in range(len(mytuple)):\n",
    "    print(mytuple[i])\n",
    "print(\"\\n\")\n",
    "\n",
    "\n",
    "x = 0\n",
    "while x<len(mytuple2):\n",
    "    print(mytuple2[x])\n",
    "    x+=1"
   ]
  },
  {
   "cell_type": "code",
   "execution_count": 32,
   "metadata": {},
   "outputs": [
    {
     "name": "stdout",
     "output_type": "stream",
     "text": [
      "(1, 2, 3, 5, 6, 7, 6, 6, 6)\n",
      "2\n"
     ]
    },
    {
     "data": {
      "text/plain": [
       "4"
      ]
     },
     "execution_count": 32,
     "metadata": {},
     "output_type": "execute_result"
    }
   ],
   "source": [
    "tuple1 = (1,2,3)\n",
    "tuple2 = (5,6,7,6,6,6)\n",
    "tuple3 = tuple1+tuple2\n",
    "print(tuple3)\n",
    "print(tuple1.index(3))\n",
    "tuple2.count(6)"
   ]
  },
  {
   "cell_type": "code",
   "execution_count": 7,
   "metadata": {},
   "outputs": [
    {
     "name": "stdout",
     "output_type": "stream",
     "text": [
      "<class 'set'>\n",
      "3\n",
      "<class 'set'>\n",
      "\n",
      "\n",
      "\n",
      "mango\n",
      "jackfruit\n",
      "apple\n"
     ]
    }
   ],
   "source": [
    "'''SET '''\n",
    "myset = {\"apple\",\"mango\",\"jackfruit\"}\n",
    "print(type(myset))\n",
    "print(len(myset))\n",
    "myset1 = set((\"MIT\",\"CU\",\"DU\"))\n",
    "print(type(myset1))\n",
    "print(\"\\n\\n\")\n",
    "for i in myset:\n",
    "    print(i)"
   ]
  },
  {
   "cell_type": "code",
   "execution_count": 17,
   "metadata": {},
   "outputs": [
    {
     "name": "stdout",
     "output_type": "stream",
     "text": [
      "{'MIT', 'BRACU', 'nsu', 'IUB', 'CU', 'UIU', 'DU'}\n"
     ]
    }
   ],
   "source": [
    "myset1.add(\"nsu\")\n",
    "print(myset1)\n"
   ]
  },
  {
   "cell_type": "code",
   "execution_count": 22,
   "metadata": {},
   "outputs": [
    {
     "name": "stdout",
     "output_type": "stream",
     "text": [
      "{'MIT', 'BRACU', 'nsu', 'IUB', 'CU', 'UIU', 'DU'}\n",
      "{'MIT', 'BRACU', 'nsu', 'CU', 'UIU', 'DU'}\n",
      "{'BRACU', 'nsu', 'CU', 'UIU', 'DU'}\n"
     ]
    }
   ],
   "source": [
    "myset2 = {\"UIU\",\"BRACU\",\"IUB\"}\n",
    "myset1.update(myset2)\n",
    "print(myset1)\n",
    "myset1.remove(\"IUB\")\n",
    "print(myset1)\n",
    "myset1.discard(\"MIT\")#same as remove\n",
    "print(myset1)"
   ]
  },
  {
   "cell_type": "code",
   "execution_count": 19,
   "metadata": {},
   "outputs": [
    {
     "name": "stdout",
     "output_type": "stream",
     "text": [
      "{1, 2, 4, 5, 6}\n"
     ]
    }
   ],
   "source": [
    "this_SET = {4,5,6}\n",
    "ThisList = [1,2,1]\n",
    "this_SET.update(ThisList)\n",
    "print(this_SET)#no duplicate allowed in set"
   ]
  },
  {
   "cell_type": "code",
   "execution_count": 24,
   "metadata": {},
   "outputs": [
    {
     "name": "stdout",
     "output_type": "stream",
     "text": [
      "set()\n"
     ]
    }
   ],
   "source": [
    "set1= {1,2,4}\n",
    "set1.clear()\n",
    "print(set1)"
   ]
  },
  {
   "cell_type": "code",
   "execution_count": 29,
   "metadata": {},
   "outputs": [
    {
     "name": "stdout",
     "output_type": "stream",
     "text": [
      "{'brand': 'toyta', 'model': 'prado', 'year': 2020}\n",
      "<class 'dict'>\n",
      "3\n",
      "<class 'dict'>\n"
     ]
    }
   ],
   "source": [
    "'''Dictionary'''\n",
    "'''KEY:VALUE'''\n",
    "Dict1 = {\n",
    "    \"brand\":\"toyta\",\n",
    "    \"model\":\"prado\",\n",
    "    \"year\":2020\n",
    "}\n",
    "dict2 = dict(name=\"jamal\",age = 36,country = \"Denmark\")\n",
    "print(Dict1)\n",
    "print(type(Dict1))\n",
    "print(len(Dict1))\n",
    "print(type(dict2))"
   ]
  },
  {
   "cell_type": "code",
   "execution_count": 42,
   "metadata": {},
   "outputs": [
    {
     "name": "stdout",
     "output_type": "stream",
     "text": [
      "prado\n",
      "dict_keys(['brand', 'model', 'color'])\n",
      "dict_values(['toyta', 'prado', 'BLUE'])\n",
      "{'brand': 'toyta', 'model': 'prado', 'color': 'white'}\n",
      "dict_items([('brand', 'toyta'), ('model', 'prado'), ('color', 'white')])\n",
      "{'brand': 'toyta', 'model': 'prado', 'color': 'BLUE'}\n"
     ]
    }
   ],
   "source": [
    "print(Dict1.get(\"model\"))\n",
    "print(Dict1.keys())\n",
    "print(Dict1.values())\n",
    "Dict1[\"color\"]= \"white\"\n",
    "print(Dict1)\n",
    "print(Dict1.items())\n",
    "Dict1.update({\"color\":\"BLUE\"})\n",
    "print(Dict1)\n"
   ]
  },
  {
   "cell_type": "code",
   "execution_count": 51,
   "metadata": {},
   "outputs": [
    {
     "name": "stdout",
     "output_type": "stream",
     "text": [
      "{'brand': 'toyta', 'model': 'prado', 'color': 'BLUE'}\n"
     ]
    }
   ],
   "source": [
    "dict_C = Dict1.copy()\n",
    "print(dict_C)"
   ]
  }
 ],
 "metadata": {
  "kernelspec": {
   "display_name": "base",
   "language": "python",
   "name": "python3"
  },
  "language_info": {
   "codemirror_mode": {
    "name": "ipython",
    "version": 3
   },
   "file_extension": ".py",
   "mimetype": "text/x-python",
   "name": "python",
   "nbconvert_exporter": "python",
   "pygments_lexer": "ipython3",
   "version": "3.11.5"
  }
 },
 "nbformat": 4,
 "nbformat_minor": 2
}
